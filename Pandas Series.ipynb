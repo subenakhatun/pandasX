{
 "cells": [
  {
   "cell_type": "markdown",
   "id": "4cf44772",
   "metadata": {},
   "source": [
    "## pandas\n",
    "pandas is a Python package that provides fast, flexible, and expressive data structures designed to make working with \"relational\" or \"labeled\" data both easy and intuitive. It aims to be the fundamental high-level building block for doing practical, real world data analysis in Python."
   ]
  },
  {
   "cell_type": "markdown",
   "id": "00c56ec2",
   "metadata": {},
   "source": [
    "### Importing Pandas"
   ]
  },
  {
   "cell_type": "code",
   "execution_count": 1,
   "id": "edd30999",
   "metadata": {},
   "outputs": [],
   "source": [
    "import numpy as np\n",
    "import pandas as pd"
   ]
  },
  {
   "cell_type": "markdown",
   "id": "f1254a16",
   "metadata": {},
   "source": [
    "### Series from lists"
   ]
  },
  {
   "cell_type": "code",
   "execution_count": 2,
   "id": "0bfd4cc8",
   "metadata": {},
   "outputs": [
    {
     "data": {
      "text/plain": [
       "0    Banglades\n",
       "1        India\n",
       "2        Nepal\n",
       "3        Butan\n",
       "4       Maldiv\n",
       "5     Srilanka\n",
       "6         Arab\n",
       "7           UK\n",
       "dtype: object"
      ]
     },
     "execution_count": 2,
     "metadata": {},
     "output_type": "execute_result"
    }
   ],
   "source": [
    "# String: from string create series\n",
    "country = ['Banglades','India','Nepal','Butan','Maldiv','Srilanka','Arab','UK']\n",
    "\n",
    "# covert string into pandas series\n",
    "\n",
    "series = pd.Series(country)\n",
    "series"
   ]
  },
  {
   "cell_type": "code",
   "execution_count": 3,
   "id": "70597687",
   "metadata": {},
   "outputs": [
    {
     "data": {
      "text/plain": [
       "0      12\n",
       "1      15\n",
       "2      14\n",
       "3      16\n",
       "4      17\n",
       "5      18\n",
       "6      19\n",
       "7      20\n",
       "8      13\n",
       "9      89\n",
       "10    100\n",
       "dtype: int64"
      ]
     },
     "execution_count": 3,
     "metadata": {},
     "output_type": "execute_result"
    }
   ],
   "source": [
    "# integers. integers number to series\n",
    "\n",
    "numbers = [12,15,14,16,17,18,19,20,13,89,100]\n",
    "number = pd.Series(numbers)\n",
    "number"
   ]
  },
  {
   "cell_type": "code",
   "execution_count": 24,
   "id": "b728b59a",
   "metadata": {},
   "outputs": [
    {
     "data": {
      "text/plain": [
       "Bangla         56\n",
       "English        89\n",
       "BGS            72\n",
       "Science        45\n",
       "Math           96\n",
       "Higher Math    13\n",
       "Physics        25\n",
       "Chemistrt      48\n",
       "Biology        69\n",
       "IME            57\n",
       "dtype: int64"
      ]
     },
     "execution_count": 24,
     "metadata": {},
     "output_type": "execute_result"
    }
   ],
   "source": [
    "# custom index. I can set index name what column i want fo index start\n",
    "\n",
    "marks = [56,89,72,45,96,13,25,48,69,57]\n",
    "# pd.Series(marks)\n",
    "subjects = ['Bangla','English','BGS','Science','Math','Higher Math','Physics','Chemistrt','Biology','IME']\n",
    "# pd.Series(subjects)\n",
    "total = pd.Series(marks, index=subjects)\n",
    "total"
   ]
  },
  {
   "cell_type": "code",
   "execution_count": 12,
   "id": "704b8933",
   "metadata": {},
   "outputs": [
    {
     "data": {
      "text/plain": [
       "56         Bangla\n",
       "89        English\n",
       "72            BGS\n",
       "45        Science\n",
       "96           Math\n",
       "13    Higher Math\n",
       "25        Physics\n",
       "48      Chemistrt\n",
       "69        Biology\n",
       "57            IME\n",
       "dtype: object"
      ]
     },
     "execution_count": 12,
     "metadata": {},
     "output_type": "execute_result"
    }
   ],
   "source": [
    "# another indexing\n",
    "pd.Series(subjects, index=marks)"
   ]
  },
  {
   "cell_type": "code",
   "execution_count": 13,
   "id": "f7f84899",
   "metadata": {},
   "outputs": [
    {
     "data": {
      "text/plain": [
       "0    56\n",
       "1    89\n",
       "2    72\n",
       "3    45\n",
       "4    96\n",
       "5    13\n",
       "6    25\n",
       "7    48\n",
       "8    69\n",
       "9    57\n",
       "Name: Mark sheet of Dhoha., dtype: int64"
      ]
     },
     "execution_count": 13,
     "metadata": {},
     "output_type": "execute_result"
    }
   ],
   "source": [
    "# setting a name. Series name deifine with name attributes\n",
    "\n",
    "marks = pd.Series(marks, name = 'Mark sheet of Dhoha.')\n",
    "marks"
   ]
  },
  {
   "cell_type": "markdown",
   "id": "7bf6bc2e",
   "metadata": {},
   "source": [
    "### Series from dictionary. \n",
    "you can create 2 column series from dictionary"
   ]
  },
  {
   "cell_type": "code",
   "execution_count": 17,
   "id": "6a11205b",
   "metadata": {},
   "outputs": [
    {
     "data": {
      "text/plain": [
       "Bangla         85\n",
       "English        90\n",
       "Physics        82\n",
       "Chemistry      87\n",
       "Higher Math    88\n",
       "Math           90\n",
       "Name: Mark sheet of Dhoha., dtype: int64"
      ]
     },
     "execution_count": 17,
     "metadata": {},
     "output_type": "execute_result"
    }
   ],
   "source": [
    "marks = {\n",
    "    'Bangla': 85,\n",
    "    'English':  90,\n",
    "    'Physics': 82,\n",
    "    'Chemistry': 87,\n",
    "    'Higher Math': 88,\n",
    "    'Math': 90\n",
    "}\n",
    "pd.Series(marks, name = 'Mark sheet of Dhoha.')"
   ]
  },
  {
   "cell_type": "markdown",
   "id": "eb540235",
   "metadata": {},
   "source": [
    "### Series Attributes\n",
    "* size-- show all total number of values\n",
    "* dtype --- show which data type \n",
    "* name - as like table name. which data collection works. data collection name set\n",
    "* is_unique -- how many unique value or not repeated value are there\n",
    "* index --- index number or values show kinda keys\n",
    "* values --- how many values here kinda values of dictionary"
   ]
  },
  {
   "cell_type": "code",
   "execution_count": 20,
   "id": "8b6e2f40",
   "metadata": {},
   "outputs": [
    {
     "data": {
      "text/plain": [
       "6"
      ]
     },
     "execution_count": 20,
     "metadata": {},
     "output_type": "execute_result"
    }
   ],
   "source": [
    "# size: show how many rows and columns here with value or without values\n",
    "marks= pd.Series(marks)\n",
    "marks.size"
   ]
  },
  {
   "cell_type": "code",
   "execution_count": 22,
   "id": "5b34ee80",
   "metadata": {},
   "outputs": [
    {
     "data": {
      "text/plain": [
       "dtype('int64')"
      ]
     },
     "execution_count": 22,
     "metadata": {},
     "output_type": "execute_result"
    }
   ],
   "source": [
    "marks.dtype"
   ]
  },
  {
   "cell_type": "code",
   "execution_count": 23,
   "id": "fc9b09df",
   "metadata": {},
   "outputs": [
    {
     "data": {
      "text/plain": [
       "False"
      ]
     },
     "execution_count": 23,
     "metadata": {},
     "output_type": "execute_result"
    }
   ],
   "source": [
    "# there is no unique values\n",
    "marks.is_unique"
   ]
  },
  {
   "cell_type": "code",
   "execution_count": 25,
   "id": "45bf63f4",
   "metadata": {},
   "outputs": [
    {
     "data": {
      "text/plain": [
       "Index(['Bangla', 'English', 'BGS', 'Science', 'Math', 'Higher Math', 'Physics',\n",
       "       'Chemistrt', 'Biology', 'IME'],\n",
       "      dtype='object')"
      ]
     },
     "execution_count": 25,
     "metadata": {},
     "output_type": "execute_result"
    }
   ],
   "source": [
    "# index\n",
    "total.index"
   ]
  },
  {
   "cell_type": "code",
   "execution_count": 26,
   "id": "0bd1acaf",
   "metadata": {},
   "outputs": [
    {
     "data": {
      "text/plain": [
       "array([56, 89, 72, 45, 96, 13, 25, 48, 69, 57], dtype=int64)"
      ]
     },
     "execution_count": 26,
     "metadata": {},
     "output_type": "execute_result"
    }
   ],
   "source": [
    "# values\n",
    "total.values"
   ]
  },
  {
   "cell_type": "markdown",
   "id": "0a364335",
   "metadata": {},
   "source": [
    "### Series Using read_csv\n",
    "if we want to read any csv file from computer then we use this read_csv for import csv file or read csv file"
   ]
  },
  {
   "cell_type": "code",
   "execution_count": 36,
   "id": "93bf4f2b",
   "metadata": {},
   "outputs": [
    {
     "data": {
      "text/html": [
       "<div>\n",
       "<style scoped>\n",
       "    .dataframe tbody tr th:only-of-type {\n",
       "        vertical-align: middle;\n",
       "    }\n",
       "\n",
       "    .dataframe tbody tr th {\n",
       "        vertical-align: top;\n",
       "    }\n",
       "\n",
       "    .dataframe thead th {\n",
       "        text-align: right;\n",
       "    }\n",
       "</style>\n",
       "<table border=\"1\" class=\"dataframe\">\n",
       "  <thead>\n",
       "    <tr style=\"text-align: right;\">\n",
       "      <th></th>\n",
       "      <th>Subscribers gained</th>\n",
       "    </tr>\n",
       "  </thead>\n",
       "  <tbody>\n",
       "    <tr>\n",
       "      <th>0</th>\n",
       "      <td>48</td>\n",
       "    </tr>\n",
       "    <tr>\n",
       "      <th>1</th>\n",
       "      <td>57</td>\n",
       "    </tr>\n",
       "    <tr>\n",
       "      <th>2</th>\n",
       "      <td>40</td>\n",
       "    </tr>\n",
       "    <tr>\n",
       "      <th>3</th>\n",
       "      <td>43</td>\n",
       "    </tr>\n",
       "    <tr>\n",
       "      <th>4</th>\n",
       "      <td>44</td>\n",
       "    </tr>\n",
       "    <tr>\n",
       "      <th>...</th>\n",
       "      <td>...</td>\n",
       "    </tr>\n",
       "    <tr>\n",
       "      <th>360</th>\n",
       "      <td>231</td>\n",
       "    </tr>\n",
       "    <tr>\n",
       "      <th>361</th>\n",
       "      <td>226</td>\n",
       "    </tr>\n",
       "    <tr>\n",
       "      <th>362</th>\n",
       "      <td>155</td>\n",
       "    </tr>\n",
       "    <tr>\n",
       "      <th>363</th>\n",
       "      <td>144</td>\n",
       "    </tr>\n",
       "    <tr>\n",
       "      <th>364</th>\n",
       "      <td>172</td>\n",
       "    </tr>\n",
       "  </tbody>\n",
       "</table>\n",
       "<p>365 rows × 1 columns</p>\n",
       "</div>"
      ],
      "text/plain": [
       "     Subscribers gained\n",
       "0                    48\n",
       "1                    57\n",
       "2                    40\n",
       "3                    43\n",
       "4                    44\n",
       "..                  ...\n",
       "360                 231\n",
       "361                 226\n",
       "362                 155\n",
       "363                 144\n",
       "364                 172\n",
       "\n",
       "[365 rows x 1 columns]"
      ]
     },
     "execution_count": 36,
     "metadata": {},
     "output_type": "execute_result"
    }
   ],
   "source": [
    "# with one columns csv file . \n",
    "sub = pd.read_csv('subs.csv')\n",
    "sub"
   ]
  },
  {
   "cell_type": "code",
   "execution_count": 48,
   "id": "1dc57418",
   "metadata": {},
   "outputs": [
    {
     "data": {
      "text/html": [
       "<div>\n",
       "<style scoped>\n",
       "    .dataframe tbody tr th:only-of-type {\n",
       "        vertical-align: middle;\n",
       "    }\n",
       "\n",
       "    .dataframe tbody tr th {\n",
       "        vertical-align: top;\n",
       "    }\n",
       "\n",
       "    .dataframe thead th {\n",
       "        text-align: right;\n",
       "    }\n",
       "</style>\n",
       "<table border=\"1\" class=\"dataframe\">\n",
       "  <thead>\n",
       "    <tr style=\"text-align: right;\">\n",
       "      <th></th>\n",
       "      <th>runs</th>\n",
       "    </tr>\n",
       "    <tr>\n",
       "      <th>match_no</th>\n",
       "      <th></th>\n",
       "    </tr>\n",
       "  </thead>\n",
       "  <tbody>\n",
       "    <tr>\n",
       "      <th>1</th>\n",
       "      <td>1</td>\n",
       "    </tr>\n",
       "    <tr>\n",
       "      <th>2</th>\n",
       "      <td>23</td>\n",
       "    </tr>\n",
       "    <tr>\n",
       "      <th>3</th>\n",
       "      <td>13</td>\n",
       "    </tr>\n",
       "    <tr>\n",
       "      <th>4</th>\n",
       "      <td>12</td>\n",
       "    </tr>\n",
       "    <tr>\n",
       "      <th>5</th>\n",
       "      <td>1</td>\n",
       "    </tr>\n",
       "    <tr>\n",
       "      <th>...</th>\n",
       "      <td>...</td>\n",
       "    </tr>\n",
       "    <tr>\n",
       "      <th>211</th>\n",
       "      <td>0</td>\n",
       "    </tr>\n",
       "    <tr>\n",
       "      <th>212</th>\n",
       "      <td>20</td>\n",
       "    </tr>\n",
       "    <tr>\n",
       "      <th>213</th>\n",
       "      <td>73</td>\n",
       "    </tr>\n",
       "    <tr>\n",
       "      <th>214</th>\n",
       "      <td>25</td>\n",
       "    </tr>\n",
       "    <tr>\n",
       "      <th>215</th>\n",
       "      <td>7</td>\n",
       "    </tr>\n",
       "  </tbody>\n",
       "</table>\n",
       "<p>215 rows × 1 columns</p>\n",
       "</div>"
      ],
      "text/plain": [
       "          runs\n",
       "match_no      \n",
       "1            1\n",
       "2           23\n",
       "3           13\n",
       "4           12\n",
       "5            1\n",
       "...        ...\n",
       "211          0\n",
       "212         20\n",
       "213         73\n",
       "214         25\n",
       "215          7\n",
       "\n",
       "[215 rows x 1 columns]"
      ]
     },
     "execution_count": 48,
     "metadata": {},
     "output_type": "execute_result"
    }
   ],
   "source": [
    "# 2 columns csv file\n",
    "\n",
    "kohli_ipl = pd.read_csv('kohli_ipl.csv', index_col = 'match_no')\n",
    "kohli_ipl"
   ]
  },
  {
   "cell_type": "code",
   "execution_count": 45,
   "id": "5ea6b955",
   "metadata": {},
   "outputs": [
    {
     "data": {
      "text/html": [
       "<div>\n",
       "<style scoped>\n",
       "    .dataframe tbody tr th:only-of-type {\n",
       "        vertical-align: middle;\n",
       "    }\n",
       "\n",
       "    .dataframe tbody tr th {\n",
       "        vertical-align: top;\n",
       "    }\n",
       "\n",
       "    .dataframe thead th {\n",
       "        text-align: right;\n",
       "    }\n",
       "</style>\n",
       "<table border=\"1\" class=\"dataframe\">\n",
       "  <thead>\n",
       "    <tr style=\"text-align: right;\">\n",
       "      <th></th>\n",
       "      <th>lead</th>\n",
       "    </tr>\n",
       "    <tr>\n",
       "      <th>movie</th>\n",
       "      <th></th>\n",
       "    </tr>\n",
       "  </thead>\n",
       "  <tbody>\n",
       "    <tr>\n",
       "      <th>Uri: The Surgical Strike</th>\n",
       "      <td>Vicky Kaushal</td>\n",
       "    </tr>\n",
       "    <tr>\n",
       "      <th>Battalion 609</th>\n",
       "      <td>Vicky Ahuja</td>\n",
       "    </tr>\n",
       "    <tr>\n",
       "      <th>The Accidental Prime Minister (film)</th>\n",
       "      <td>Anupam Kher</td>\n",
       "    </tr>\n",
       "    <tr>\n",
       "      <th>Why Cheat India</th>\n",
       "      <td>Emraan Hashmi</td>\n",
       "    </tr>\n",
       "    <tr>\n",
       "      <th>Evening Shadows</th>\n",
       "      <td>Mona Ambegaonkar</td>\n",
       "    </tr>\n",
       "    <tr>\n",
       "      <th>...</th>\n",
       "      <td>...</td>\n",
       "    </tr>\n",
       "    <tr>\n",
       "      <th>Hum Tumhare Hain Sanam</th>\n",
       "      <td>Shah Rukh Khan</td>\n",
       "    </tr>\n",
       "    <tr>\n",
       "      <th>Aankhen (2002 film)</th>\n",
       "      <td>Amitabh Bachchan</td>\n",
       "    </tr>\n",
       "    <tr>\n",
       "      <th>Saathiya (film)</th>\n",
       "      <td>Vivek Oberoi</td>\n",
       "    </tr>\n",
       "    <tr>\n",
       "      <th>Company (film)</th>\n",
       "      <td>Ajay Devgn</td>\n",
       "    </tr>\n",
       "    <tr>\n",
       "      <th>Awara Paagal Deewana</th>\n",
       "      <td>Akshay Kumar</td>\n",
       "    </tr>\n",
       "  </tbody>\n",
       "</table>\n",
       "<p>1500 rows × 1 columns</p>\n",
       "</div>"
      ],
      "text/plain": [
       "                                                  lead\n",
       "movie                                                 \n",
       "Uri: The Surgical Strike                 Vicky Kaushal\n",
       "Battalion 609                              Vicky Ahuja\n",
       "The Accidental Prime Minister (film)       Anupam Kher\n",
       "Why Cheat India                          Emraan Hashmi\n",
       "Evening Shadows                       Mona Ambegaonkar\n",
       "...                                                ...\n",
       "Hum Tumhare Hain Sanam                  Shah Rukh Khan\n",
       "Aankhen (2002 film)                   Amitabh Bachchan\n",
       "Saathiya (film)                           Vivek Oberoi\n",
       "Company (film)                              Ajay Devgn\n",
       "Awara Paagal Deewana                      Akshay Kumar\n",
       "\n",
       "[1500 rows x 1 columns]"
      ]
     },
     "execution_count": 45,
     "metadata": {},
     "output_type": "execute_result"
    }
   ],
   "source": [
    "# 2 cols both are strings\n",
    "movies = pd.read_csv('bollywood.csv',index_col ='movie')\n",
    "movies"
   ]
  },
  {
   "cell_type": "code",
   "execution_count": 39,
   "id": "0c6d8e5f",
   "metadata": {},
   "outputs": [],
   "source": [
    "# Squeeze 1 dimensional axis objects into scalars\n",
    "# index_col: This is to allow you to set which columns to be used as the index of the dataframe."
   ]
  },
  {
   "cell_type": "markdown",
   "id": "625fed62",
   "metadata": {},
   "source": [
    "### Series Mathod\n",
    "* head()\n",
    "* tail()\n",
    "* sample()\n",
    "* value_counts\n",
    "* sort_values ---> inplace\n",
    "* sort_index -- inplace\n",
    "\n",
    "### Series Math methods:\n",
    "* count\n",
    "* sum\n",
    "* product\n",
    "* mean\n",
    "* median\n",
    "* mode\n",
    "* std - standard deviation\n",
    "* var - varience\n",
    "* min/max\n",
    "* describe()\n"
   ]
  },
  {
   "cell_type": "code",
   "execution_count": null,
   "id": "de99e811",
   "metadata": {},
   "outputs": [],
   "source": []
  },
  {
   "cell_type": "code",
   "execution_count": null,
   "id": "b572f8d6",
   "metadata": {},
   "outputs": [],
   "source": []
  },
  {
   "cell_type": "code",
   "execution_count": null,
   "id": "92ff1322",
   "metadata": {},
   "outputs": [],
   "source": []
  },
  {
   "cell_type": "code",
   "execution_count": null,
   "id": "e2c47e4b",
   "metadata": {},
   "outputs": [],
   "source": []
  },
  {
   "cell_type": "code",
   "execution_count": null,
   "id": "474f1cbe",
   "metadata": {},
   "outputs": [],
   "source": []
  },
  {
   "cell_type": "code",
   "execution_count": null,
   "id": "449cef9d",
   "metadata": {},
   "outputs": [],
   "source": []
  },
  {
   "cell_type": "code",
   "execution_count": null,
   "id": "1ad0516f",
   "metadata": {},
   "outputs": [],
   "source": []
  },
  {
   "cell_type": "code",
   "execution_count": null,
   "id": "ad5710dd",
   "metadata": {},
   "outputs": [],
   "source": []
  },
  {
   "cell_type": "code",
   "execution_count": null,
   "id": "d3dbf387",
   "metadata": {},
   "outputs": [],
   "source": []
  }
 ],
 "metadata": {
  "kernelspec": {
   "display_name": "Python 3 (ipykernel)",
   "language": "python",
   "name": "python3"
  },
  "language_info": {
   "codemirror_mode": {
    "name": "ipython",
    "version": 3
   },
   "file_extension": ".py",
   "mimetype": "text/x-python",
   "name": "python",
   "nbconvert_exporter": "python",
   "pygments_lexer": "ipython3",
   "version": "3.11.5"
  }
 },
 "nbformat": 4,
 "nbformat_minor": 5
}
